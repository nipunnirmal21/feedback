{
  "nbformat": 4,
  "nbformat_minor": 0,
  "metadata": {
    "colab": {
      "provenance": [],
      "authorship_tag": "ABX9TyOqh8PGMjSy9ImtzS702I9y",
      "include_colab_link": true
    },
    "kernelspec": {
      "name": "python3",
      "display_name": "Python 3"
    },
    "language_info": {
      "name": "python"
    }
  },
  "cells": [
    {
      "cell_type": "markdown",
      "metadata": {
        "id": "view-in-github",
        "colab_type": "text"
      },
      "source": [
        "<a href=\"https://colab.research.google.com/github/nipunnirmal21/feedback/blob/main/Untitled4.ipynb\" target=\"_parent\"><img src=\"https://colab.research.google.com/assets/colab-badge.svg\" alt=\"Open In Colab\"/></a>"
      ]
    },
    {
      "cell_type": "code",
      "execution_count": null,
      "metadata": {
        "id": "scmzPZTNuSwg"
      },
      "outputs": [],
      "source": [
        "# Import scikit-learn tools\n",
        "# CountVectorizer will turn our text into numbers the AI can understand.\n",
        "# MultinomialNB is the actual AI model algorithm we will use.\n",
        "from sklearn.feature_extraction.text import CountVectorizer\n",
        "from sklearn.naive_bayes import MultinomialNB"
      ]
    },
    {
      "cell_type": "code",
      "source": [
        "x_train =[\n",
        "    \"The movie was amazing and fantastic\",\n",
        "    \"I really liked the acting\",\n",
        "    \"A great plot with excellent scenes\",\n",
        "    \"This was a terrible and boring movie\",\n",
        "    \"I did not like the film at all\",\n",
        "    \"The acting was awful\"\n",
        "]\n",
        "\n",
        "y_train = [\"positive\", \"positive\", \"positive\", \"negative\", \"negative\", \"negative\"]"
      ],
      "metadata": {
        "id": "I5-UAYx3AjJH"
      },
      "execution_count": 1,
      "outputs": []
    },
    {
      "cell_type": "code",
      "source": [
        "Vectorizer =  CountVectorizer()\n",
        "\n",
        "x_train_vectorized = Vectorizer.fit_transform(x_train)\n"
      ],
      "metadata": {
        "id": "6a05MjhkCce4"
      },
      "execution_count": null,
      "outputs": []
    }
  ]
}